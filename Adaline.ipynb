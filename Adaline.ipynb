{
 "cells": [
  {
   "cell_type": "code",
   "execution_count": 1,
   "id": "75da04f4",
   "metadata": {},
   "outputs": [],
   "source": [
    "import numpy as np\n",
    "import matplotlib.pyplot as plt\n",
    "import math"
   ]
  },
  {
   "cell_type": "code",
   "execution_count": 2,
   "id": "f9942032",
   "metadata": {},
   "outputs": [],
   "source": [
    "LEARNING_RATE = 0.45"
   ]
  },
  {
   "cell_type": "code",
   "execution_count": 3,
   "id": "359443f3",
   "metadata": {},
   "outputs": [],
   "source": [
    "def step(x):\n",
    "    if (x > 0):\n",
    "        return 1\n",
    "    else:\n",
    "        return -1;"
   ]
  },
  {
   "cell_type": "code",
   "execution_count": 4,
   "id": "ca2018de",
   "metadata": {},
   "outputs": [],
   "source": [
    "INPUTS = np.array([[-1,-1,1],\n",
    "                   [-1,1,1],\n",
    "                   [1,-1,1],\n",
    "                   [1,1,1] ])         \n",
    "OUTPUTS = np.array([[-1,1,1,1]]).T"
   ]
  },
  {
   "cell_type": "code",
   "execution_count": 5,
   "id": "48ee6641",
   "metadata": {},
   "outputs": [
    {
     "data": {
      "text/plain": [
       "array([[-1, -1,  1],\n",
       "       [-1,  1,  1],\n",
       "       [ 1, -1,  1],\n",
       "       [ 1,  1,  1]])"
      ]
     },
     "execution_count": 5,
     "metadata": {},
     "output_type": "execute_result"
    }
   ],
   "source": []
  },
  {
   "cell_type": "code",
   "execution_count": 6,
   "id": "f1241ee7",
   "metadata": {},
   "outputs": [
    {
     "data": {
      "text/plain": [
       "array([[-1],\n",
       "       [ 1],\n",
       "       [ 1],\n",
       "       [ 1]])"
      ]
     },
     "execution_count": 6,
     "metadata": {},
     "output_type": "execute_result"
    }
   ],
   "source": [
    "OUTPUTS"
   ]
  },
  {
   "cell_type": "code",
   "execution_count": 8,
   "id": "826fc983",
   "metadata": {},
   "outputs": [],
   "source": [
    "np.random.seed(1)"
   ]
  },
  {
   "cell_type": "code",
   "execution_count": 9,
   "id": "2b755003",
   "metadata": {},
   "outputs": [],
   "source": [
    "WEIGHTS = 2*np.random.random((3,1)) - 1"
   ]
  },
  {
   "cell_type": "code",
   "execution_count": 10,
   "id": "78d1dbf5",
   "metadata": {},
   "outputs": [
    {
     "data": {
      "text/plain": [
       "array([[-0.16595599],\n",
       "       [ 0.44064899],\n",
       "       [-0.99977125]])"
      ]
     },
     "execution_count": 10,
     "metadata": {},
     "output_type": "execute_result"
    }
   ],
   "source": [
    "WEIGHTS"
   ]
  },
  {
   "cell_type": "code",
   "execution_count": 11,
   "id": "b7f28fb8",
   "metadata": {},
   "outputs": [],
   "source": [
    "errors=[]"
   ]
  },
  {
   "cell_type": "code",
   "execution_count": 22,
   "id": "b747f2f6",
   "metadata": {},
   "outputs": [],
   "source": [
    "# Training loop\n",
    "for iter in range(100):\n",
    "\n",
    "    for input_item,desired in zip(INPUTS, OUTPUTS):\n",
    "        \n",
    "        ADALINE_OUTPUT = (input_item[0]*WEIGHTS[0]) + (input_item[1]*WEIGHTS[1]) + (input_item[2]*WEIGHTS[2])\n",
    "\n",
    "        # Run ADALINE_OUTPUT through the step function\n",
    "        ADALINE_OUTPUT = step(ADALINE_OUTPUT)\n",
    "\n",
    "        # Calculate the ERROR generated\n",
    "        ERROR = desired - ADALINE_OUTPUT\n",
    "        \n",
    "        # Store the ERROR\n",
    "        errors.append(ERROR)\n",
    "        \n",
    "        # Update the weights\n",
    "        WEIGHTS[0] = WEIGHTS[0] + LEARNING_RATE * ERROR * input_item[0]\n",
    "        WEIGHTS[1] = WEIGHTS[1] + LEARNING_RATE * ERROR * input_item[1]\n",
    "        WEIGHTS[2] = WEIGHTS[2] + LEARNING_RATE * ERROR * input_item[2]\n",
    "    \n",
    "    \n",
    "\n"
   ]
  },
  {
   "cell_type": "code",
   "execution_count": 15,
   "id": "99eee7ed",
   "metadata": {},
   "outputs": [
    {
     "data": {
      "text/plain": [
       "array([[0.73404401],\n",
       "       [1.34064899],\n",
       "       [1.70022875]])"
      ]
     },
     "execution_count": 15,
     "metadata": {},
     "output_type": "execute_result"
    }
   ],
   "source": [
    "WEIGHTS"
   ]
  },
  {
   "cell_type": "code",
   "execution_count": 23,
   "id": "59f1f0c3",
   "metadata": {},
   "outputs": [
    {
     "name": "stdout",
     "output_type": "stream",
     "text": [
      "Actual  -1 Desired  [-1]\n",
      "Actual  1 Desired  [1]\n",
      "Actual  1 Desired  [1]\n",
      "Actual  1 Desired  [1]\n"
     ]
    }
   ],
   "source": [
    "for input_item,desired in zip(INPUTS, OUTPUTS):\n",
    "\n",
    "    ADALINE_OUTPUT = (input_item[0]*WEIGHTS[0]) + (input_item[1]*WEIGHTS[1]) + (input_item[2]*WEIGHTS[2])\n",
    "    ADALINE_OUTPUT = step(ADALINE_OUTPUT)\n",
    "\n",
    "    print(\"Actual \", ADALINE_OUTPUT, \"Desired \", desired)\n",
    "\n"
   ]
  },
  {
   "cell_type": "code",
   "execution_count": null,
   "id": "f15a8250",
   "metadata": {
    "scrolled": true
   },
   "outputs": [],
   "source": []
  },
  {
   "cell_type": "code",
   "execution_count": null,
   "id": "ab1b1736",
   "metadata": {},
   "outputs": [],
   "source": []
  },
  {
   "cell_type": "code",
   "execution_count": null,
   "id": "749fcb57",
   "metadata": {},
   "outputs": [],
   "source": []
  },
  {
   "cell_type": "code",
   "execution_count": null,
   "id": "b94ed0eb",
   "metadata": {},
   "outputs": [],
   "source": []
  }
 ],
 "metadata": {
  "kernelspec": {
   "display_name": "Python 3 (ipykernel)",
   "language": "python",
   "name": "python3"
  },
  "language_info": {
   "codemirror_mode": {
    "name": "ipython",
    "version": 3
   },
   "file_extension": ".py",
   "mimetype": "text/x-python",
   "name": "python",
   "nbconvert_exporter": "python",
   "pygments_lexer": "ipython3",
   "version": "3.9.7"
  }
 },
 "nbformat": 4,
 "nbformat_minor": 5
}
